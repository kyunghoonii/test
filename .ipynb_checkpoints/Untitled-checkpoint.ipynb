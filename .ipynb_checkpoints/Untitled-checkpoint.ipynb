{
 "cells": [
  {
   "cell_type": "code",
   "execution_count": 48,
   "id": "ddc9193c",
   "metadata": {
    "ExecuteTime": {
     "end_time": "2022-04-30T13:00:22.361687Z",
     "start_time": "2022-04-30T13:00:22.347557Z"
    }
   },
   "outputs": [],
   "source": [
    "import psycopg2\n",
    "from flask import Flask\n",
    "#from credentials import DATABASE as DB"
   ]
  },
  {
   "cell_type": "code",
   "execution_count": 49,
   "id": "4432cb16",
   "metadata": {
    "ExecuteTime": {
     "end_time": "2022-04-30T13:00:22.723946Z",
     "start_time": "2022-04-30T13:00:22.711270Z"
    }
   },
   "outputs": [],
   "source": [
    "    DB = {\n",
    "        'database': 'synthea_1000',\n",
    "        'host':'49.50.167.136',\n",
    "        'port':'5432',\n",
    "        'user': 'walker101',\n",
    "        'password': 'forcebewithyou',\n",
    "    }"
   ]
  },
  {
   "cell_type": "code",
   "execution_count": 50,
   "id": "c7ac1790",
   "metadata": {
    "ExecuteTime": {
     "end_time": "2022-04-30T13:00:24.770138Z",
     "start_time": "2022-04-30T13:00:23.112633Z"
    }
   },
   "outputs": [
    {
     "name": "stdout",
     "output_type": "stream",
     "text": [
      " * Serving Flask app \"__main__\" (lazy loading)\n",
      " * Environment: production\n",
      "\u001b[31m   WARNING: This is a development server. Do not use it in a production deployment.\u001b[0m\n",
      "\u001b[2m   Use a production WSGI server instead.\u001b[0m\n",
      " * Debug mode: on\n"
     ]
    },
    {
     "name": "stderr",
     "output_type": "stream",
     "text": [
      " * Restarting with watchdog (windowsapi)\n"
     ]
    },
    {
     "ename": "SystemExit",
     "evalue": "1",
     "output_type": "error",
     "traceback": [
      "An exception has occurred, use %tb to see the full traceback.\n",
      "\u001b[1;31mSystemExit\u001b[0m\u001b[1;31m:\u001b[0m 1\n"
     ]
    }
   ],
   "source": [
    "app = Flask (__name__)\n",
    "\n",
    "@app.route('/')\n",
    "def home():\n",
    "   return 'This is Home!'\n",
    "\n",
    "if __name__ == '__main__':  \n",
    "   app.run('0.0.0.0',port=5000,debug=True)"
   ]
  },
  {
   "cell_type": "code",
   "execution_count": null,
   "id": "c0049a37",
   "metadata": {},
   "outputs": [],
   "source": [
    "#     db = psycopg2.connect(dbname=DB['database'],\n",
    "#                       user=DB['user'],\n",
    "#                      host=DB['host'],\n",
    "#                      password=DB['password'],\n",
    "#                      port=DB['port'])\n",
    "\n",
    "#     sql = 'SELECT * FROM person'\n",
    "\n",
    "    \n",
    "#     print(sql)\n",
    "#     cur = db.cursor()\n",
    "#     cur.execute(sql)\n",
    "#     data = cur.fetchall()\n",
    "#     columns = []\n",
    "#     for c in cur.description:\n",
    "#         columns.append(c[0])\n",
    "\n",
    "#     print(columns)\n",
    "    \n",
    "    \n",
    "    #return db"
   ]
  },
  {
   "cell_type": "code",
   "execution_count": null,
   "id": "6254c77d",
   "metadata": {},
   "outputs": [],
   "source": [
    "\n",
    "\n",
    "\n",
    "# def _get_data_simple_general(sql, func_conn=None, conn=None):\n",
    "#     if conn is None and func_conn is not None :\n",
    "#         conn = func_conn()\n",
    "#     if conn is None :\n",
    "#         return [None, None]\n",
    "#     cursor = conn.cursor()\n",
    "#     try : \n",
    "#         cursor.execute(sql)\n",
    "#         data = cursor.fetchall()\n",
    "# #         data = cursor.patchmany(patch_size)\n",
    "#         columns = []\n",
    "#         for c in cursor.description:\n",
    "#             columns.append(c[0])\n",
    "#         return columns, data # list, list of tuple\n",
    "#     finally:\n",
    "#         cursor.close()\n",
    "#         conn.close()"
   ]
  }
 ],
 "metadata": {
  "hide_input": false,
  "kernelspec": {
   "display_name": "Python 3 (ipykernel)",
   "language": "python",
   "name": "python3"
  },
  "language_info": {
   "codemirror_mode": {
    "name": "ipython",
    "version": 3
   },
   "file_extension": ".py",
   "mimetype": "text/x-python",
   "name": "python",
   "nbconvert_exporter": "python",
   "pygments_lexer": "ipython3",
   "version": "3.7.11"
  },
  "toc": {
   "base_numbering": 1,
   "nav_menu": {},
   "number_sections": true,
   "sideBar": true,
   "skip_h1_title": false,
   "title_cell": "Table of Contents",
   "title_sidebar": "Contents",
   "toc_cell": false,
   "toc_position": {},
   "toc_section_display": true,
   "toc_window_display": false
  },
  "varInspector": {
   "cols": {
    "lenName": 16,
    "lenType": 16,
    "lenVar": 40
   },
   "kernels_config": {
    "python": {
     "delete_cmd_postfix": "",
     "delete_cmd_prefix": "del ",
     "library": "var_list.py",
     "varRefreshCmd": "print(var_dic_list())"
    },
    "r": {
     "delete_cmd_postfix": ") ",
     "delete_cmd_prefix": "rm(",
     "library": "var_list.r",
     "varRefreshCmd": "cat(var_dic_list()) "
    }
   },
   "types_to_exclude": [
    "module",
    "function",
    "builtin_function_or_method",
    "instance",
    "_Feature"
   ],
   "window_display": false
  }
 },
 "nbformat": 4,
 "nbformat_minor": 5
}
